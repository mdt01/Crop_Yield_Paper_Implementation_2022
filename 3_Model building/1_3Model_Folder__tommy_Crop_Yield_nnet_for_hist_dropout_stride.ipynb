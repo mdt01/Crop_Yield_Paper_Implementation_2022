{
  "nbformat": 4,
  "nbformat_minor": 0,
  "metadata": {
    "colab": {
      "name": "Crop_Yield_nnet_for_hist_dropout_stride (1).ipynb",
      "provenance": [],
      "collapsed_sections": []
    },
    "kernelspec": {
      "name": "python3",
      "display_name": "Python 3"
    },
    "language_info": {
      "name": "python"
    },
    "accelerator": "GPU"
  },
  "cells": [
    {
      "cell_type": "code",
      "metadata": {
        "colab": {
          "base_uri": "https://localhost:8080/"
        },
        "id": "7agJ2yvBglMZ",
        "outputId": "ca24e7c2-9427-4876-a799-aed3dacf9afb"
      },
      "source": [
        "!git clone https://github.com/tommylees112/crop_yield_prediction.git"
      ],
      "execution_count": null,
      "outputs": [
        {
          "output_type": "stream",
          "text": [
            "Cloning into 'crop_yield_prediction'...\n",
            "remote: Enumerating objects: 177, done.\u001b[K\n",
            "remote: Total 177 (delta 0), reused 0 (delta 0), pack-reused 177\u001b[K\n",
            "Receiving objects: 100% (177/177), 3.23 MiB | 33.05 MiB/s, done.\n",
            "Resolving deltas: 100% (94/94), done.\n"
          ],
          "name": "stdout"
        }
      ]
    },
    {
      "cell_type": "code",
      "metadata": {
        "colab": {
          "base_uri": "https://localhost:8080/"
        },
        "id": "s5OqTVZRgO1k",
        "outputId": "f2afdd14-d94d-4c44-f4e9-9498a3ee601a"
      },
      "source": [
        "from google.colab import drive\n",
        "drive.mount('/content/drive')"
      ],
      "execution_count": null,
      "outputs": [
        {
          "output_type": "stream",
          "text": [
            "Mounted at /content/drive\n"
          ],
          "name": "stdout"
        }
      ]
    },
    {
      "cell_type": "code",
      "metadata": {
        "colab": {
          "base_uri": "https://localhost:8080/"
        },
        "id": "RTHymBd6gzCb",
        "outputId": "a23c7135-7656-4e7f-c0ee-cafbfa119773"
      },
      "source": [
        "%cd /content/crop_yield_prediction/3_model"
      ],
      "execution_count": null,
      "outputs": [
        {
          "output_type": "stream",
          "text": [
            "/content/crop_yield_prediction/3_model\n"
          ],
          "name": "stdout"
        }
      ]
    },
    {
      "cell_type": "code",
      "metadata": {
        "id": "RX21_1OBXnG1",
        "colab": {
          "base_uri": "https://localhost:8080/"
        },
        "outputId": "2cd16b6a-c3a3-4182-d541-a0b94d4ab2bf"
      },
      "source": [
        "%tensorflow_version 1.x\n",
        "from nnet_for_hist_dropout_stride import *\n",
        "from GP_crop_v3 import *\n",
        "import logging\n",
        "from tqdm import tqdm"
      ],
      "execution_count": null,
      "outputs": [
        {
          "output_type": "stream",
          "text": [
            "TensorFlow 1.x selected.\n"
          ],
          "name": "stdout"
        }
      ]
    },
    {
      "cell_type": "code",
      "metadata": {
        "colab": {
          "base_uri": "https://localhost:8080/",
          "height": 35
        },
        "id": "g7-SAXnYjcis",
        "outputId": "58c88db9-5f2e-4b0c-f959-aaa8e05d4549"
      },
      "source": [
        "import tensorflow as tf\n",
        "tf.__version__"
      ],
      "execution_count": null,
      "outputs": [
        {
          "output_type": "execute_result",
          "data": {
            "application/vnd.google.colaboratory.intrinsic+json": {
              "type": "string"
            },
            "text/plain": [
              "'1.15.2'"
            ]
          },
          "metadata": {
            "tags": []
          },
          "execution_count": 5
        }
      ]
    },
    {
      "cell_type": "code",
      "metadata": {
        "id": "Yl5VhWTVY-zj"
      },
      "source": [
        "predict_year = 2013\n",
        "logging.basicConfig(filename='train_for_hist_alldata'+str(predict_year)+'.log',level=logging.DEBUG)\n",
        "# Create a coordinator\n",
        "config = Config()"
      ],
      "execution_count": null,
      "outputs": []
    },
    {
      "cell_type": "code",
      "metadata": {
        "id": "QIdoxTBwafSm"
      },
      "source": [
        "config.load_path = \"/content/drive/MyDrive/Crop_Yield/img_full_output1/\"\n",
        "config.save_path = '/content/drive/MyDrive/Crop_Yield/monthly/'"
      ],
      "execution_count": null,
      "outputs": []
    },
    {
      "cell_type": "code",
      "metadata": {
        "id": "AIBPClRaZIXD"
      },
      "source": [
        "# load data to memory\n",
        "filename = 'histogram_all_full' + '.npz'\n",
        "# filename = 'histogram_all_soilweather' + '.npz'\n",
        "content = np.load(config.load_path + filename)\n",
        "image_all = content['output_image']\n",
        "yield_all = content['output_yield']\n",
        "year_all = content['output_year']\n",
        "locations_all = content['output_locations']\n",
        "index_all = content['output_index']"
      ],
      "execution_count": null,
      "outputs": []
    },
    {
      "cell_type": "code",
      "metadata": {
        "colab": {
          "base_uri": "https://localhost:8080/"
        },
        "id": "91rGrDOYbae8",
        "outputId": "4cc01b5a-23d4-4616-a7a6-5fd1dd784551"
      },
      "source": [
        "image_all.shape"
      ],
      "execution_count": null,
      "outputs": [
        {
          "output_type": "execute_result",
          "data": {
            "text/plain": [
              "(19078, 32, 32, 9)"
            ]
          },
          "metadata": {
            "tags": []
          },
          "execution_count": 9
        }
      ]
    },
    {
      "cell_type": "code",
      "metadata": {
        "colab": {
          "base_uri": "https://localhost:8080/"
        },
        "id": "BAmgXeh0ZMLJ",
        "outputId": "8ff7cbda-bade-479c-a199-68f74d04310d"
      },
      "source": [
        "list_delete=[]\n",
        "for i in tqdm(range(image_all.shape[0])):\n",
        "    if np.sum(image_all[i,:,:,:])<=287:\n",
        "        if year_all[i]<2013:\n",
        "            list_delete.append(i)\n",
        "image_all=np.delete(image_all,list_delete,0)\n",
        "yield_all=np.delete(yield_all,list_delete,0)\n",
        "year_all = np.delete(year_all,list_delete, 0)\n",
        "locations_all = np.delete(locations_all, list_delete, 0)\n",
        "index_all = np.delete(index_all, list_delete, 0)"
      ],
      "execution_count": null,
      "outputs": [
        {
          "output_type": "stream",
          "text": [
            "100%|██████████| 19078/19078 [00:00<00:00, 66607.51it/s]\n"
          ],
          "name": "stderr"
        }
      ]
    },
    {
      "cell_type": "code",
      "metadata": {
        "id": "szSq6Um8bSGJ",
        "colab": {
          "base_uri": "https://localhost:8080/"
        },
        "outputId": "731aa1e0-df46-4c96-86b8-daff2edcf5d9"
      },
      "source": [
        "# keep major counties\n",
        "list_keep=[]\n",
        "for i in tqdm(range(image_all.shape[0])):\n",
        "    if (index_all[i,0]==5)or(index_all[i,0]==17)or(index_all[i,0]==18)or(index_all[i,0]==19)or(index_all[i,0]==20)or(index_all[i,0]==27)or(index_all[i,0]==29)or(index_all[i,0]==31)or(index_all[i,0]==38)or(index_all[i,0]==39)or(index_all[i,0]==46):\n",
        "        list_keep.append(i)\n",
        "image_all=image_all[list_keep,:,:,:]\n",
        "yield_all=yield_all[list_keep]\n",
        "year_all = year_all[list_keep]\n",
        "locations_all = locations_all[list_keep,:]\n",
        "index_all = index_all[list_keep,:]"
      ],
      "execution_count": null,
      "outputs": [
        {
          "output_type": "stream",
          "text": [
            "100%|██████████| 5285/5285 [00:00<00:00, 211016.84it/s]\n"
          ],
          "name": "stderr"
        }
      ]
    },
    {
      "cell_type": "code",
      "metadata": {
        "colab": {
          "base_uri": "https://localhost:8080/"
        },
        "id": "uJdERMm5ltGd",
        "outputId": "98b4bfe6-feb3-4338-87a3-04671a4487c4"
      },
      "source": [
        "np.nonzero(year_all == predict_year)[0]"
      ],
      "execution_count": null,
      "outputs": [
        {
          "output_type": "execute_result",
          "data": {
            "text/plain": [
              "array([ 732,  733,  734,  735,  736,  737,  738,  739,  740,  741,  742,\n",
              "        743,  744,  745,  746,  747,  748,  749,  750,  751,  752,  753,\n",
              "        754,  755,  756,  757,  758,  759,  760,  761,  762,  763,  764,\n",
              "        765,  766,  767,  768,  769,  770,  771,  772,  773,  774,  775,\n",
              "        776,  777,  778,  779,  780,  781,  782,  783,  784,  785,  786,\n",
              "        787,  788,  789,  790,  791,  792,  793,  794,  795,  796,  797,\n",
              "        798,  799,  800,  801,  802,  803,  804,  805,  806,  807,  808,\n",
              "        809,  810,  811,  812,  813,  814,  815,  816,  817,  818,  819,\n",
              "        820,  821,  822,  823,  824,  825,  826,  827,  828,  829,  830,\n",
              "        831,  832,  833,  834,  835,  836,  837,  838,  839,  840,  841,\n",
              "        842,  843,  844,  845,  846,  847,  848,  849,  850,  851,  852,\n",
              "        853,  854,  855,  856,  857,  858,  859,  860,  861,  862,  863,\n",
              "        864,  865,  866,  867,  868,  869,  870,  871,  872,  873,  874,\n",
              "        875,  876,  877,  878,  879,  880,  881,  882,  883,  884,  885,\n",
              "        886,  887,  888,  889,  890,  891,  892,  893,  894,  895,  896,\n",
              "        897,  898,  899,  900,  901,  902,  903,  904,  905,  906,  907,\n",
              "        908,  909,  910,  911,  912,  913,  914,  915,  916,  917,  918,\n",
              "        919,  920,  921,  922,  923,  924,  925,  926,  927,  928,  929,\n",
              "        930,  931,  932,  933,  934,  935,  936,  937,  938,  939,  940,\n",
              "        941,  942,  943,  944,  945,  946,  947,  948,  949,  950,  951,\n",
              "        952,  953,  954,  955,  956,  957,  958,  959,  960,  961,  962,\n",
              "        963,  964,  965,  966,  967,  968,  969,  970,  971,  972,  973,\n",
              "        974,  975,  976,  977,  978,  979,  980,  981,  982,  983,  984,\n",
              "        985,  986,  987,  988,  989,  990,  991,  992,  993,  994,  995,\n",
              "        996,  997,  998,  999, 1000, 1001, 1002, 1003, 1004, 1005, 1006,\n",
              "       1007, 1008, 1009, 1010, 1011, 1012, 1013, 1014, 1015, 1016, 1017,\n",
              "       1018, 1019, 1020, 1021, 1022, 1023, 1024, 1025, 1026, 1027, 1028,\n",
              "       1029, 1030, 1031, 1032, 1033, 1034, 1035, 1036, 1037, 1038, 1039,\n",
              "       1040, 1041, 1042, 1043, 1044, 1045, 1046, 1047, 1048, 1049, 1050,\n",
              "       1051, 1052, 1053, 1054, 1055, 1056, 1057, 1058, 1059, 1060, 1061,\n",
              "       1062, 1063, 1064, 1065, 1066, 1067, 1068, 1069, 1070, 1071, 1072,\n",
              "       1073, 1074, 1075, 1076, 1077, 1078, 1079, 1080, 1081, 1082, 1083,\n",
              "       1084, 1085, 1086, 1087, 1088, 1089, 1090, 1091, 1092, 1093, 1094,\n",
              "       1095, 1757, 1758, 1759, 1760, 1761, 1762, 1763, 1764, 1765, 1766,\n",
              "       1767, 1768, 1769, 1770, 1771, 1772, 1773, 1774, 1775, 1776, 1777,\n",
              "       1778, 1779, 1780, 1781, 1782, 1783, 1784, 1785, 1786, 1787, 1788,\n",
              "       1789, 1790, 1791, 1792, 1793, 1794, 1795, 1796, 1797, 1798, 1799,\n",
              "       1800, 1801, 1802, 1803, 1804, 1805, 1806, 1807, 1808, 1809, 1810,\n",
              "       1811, 1812, 1813, 1814, 1815, 1816, 1817, 1818, 1819, 1820, 1821,\n",
              "       1822, 1823, 1824, 1825, 1826, 1827, 1828, 1829, 1830, 1831, 1832,\n",
              "       1833, 1834, 1835, 1836, 1837, 1838, 1839, 1840, 1841, 1842, 1843,\n",
              "       1844, 1845, 1846, 1847, 1848, 1849, 1850, 1851, 1852, 1853, 1854,\n",
              "       1855, 1856, 1857, 1858, 1859, 1860, 1861, 1862, 1863, 1864, 1865,\n",
              "       1866, 1867, 1868, 1869, 1870, 1871, 1872, 1873, 1874, 1875, 1876,\n",
              "       1877, 1878, 1879, 1880, 1881, 1882, 1883, 1884, 1885, 1886, 1887,\n",
              "       1888, 1889, 1890, 1891, 1892, 1893, 1894, 1895, 1896, 1897, 1898,\n",
              "       1899, 1900, 1901, 1902, 1903, 1904, 1905, 1906, 1907, 1908, 1909,\n",
              "       1910, 1911, 1912, 1913, 1914, 1915, 1916, 1917, 1918, 1919, 1920,\n",
              "       1921, 1922, 1923, 1924, 1925, 1926, 1927, 1928, 1929, 1930, 1931,\n",
              "       1932, 1933, 1934, 1935, 1936, 1937, 1938, 1939, 1940, 1941, 1942,\n",
              "       1943, 1944, 1945, 1946, 1947, 1948, 1949, 1950, 1951, 1952, 1953,\n",
              "       1954, 1955, 1956, 1957, 1958, 1959, 1960, 1961, 1962, 1963, 1964,\n",
              "       1965, 1966, 1967, 1968, 1969, 1970, 1971, 1972, 1973, 1974, 1975,\n",
              "       1976, 1977, 1978, 1979, 1980, 1981, 1982, 1983, 1984, 1985, 1986,\n",
              "       1987, 1988, 1989, 1990, 1991, 1992, 1993, 1994, 1995, 1996, 1997,\n",
              "       1998, 1999, 2000, 2001, 2002, 2003, 2004, 2005, 2006, 2007, 2008,\n",
              "       2009, 2010, 2011, 2012, 2013, 2014, 2015, 2016, 2017, 2018, 2019,\n",
              "       2020, 2021, 2022, 2023, 2024, 2025, 2026, 2027, 2028, 2029, 2030,\n",
              "       2031, 2032, 2033, 2034, 2035, 2036, 2037, 2038, 2039, 2040, 2041,\n",
              "       2042, 2043, 2044, 2045, 2046, 2047, 2048, 2049, 2050, 2051, 2052,\n",
              "       2053, 2054, 2055, 2056, 2057, 2058, 2059, 2060, 2061, 2062, 2063,\n",
              "       2064, 2065, 2066, 2067, 2068, 2069, 2070, 2071, 2072, 2073, 2074,\n",
              "       2075, 2076, 2077, 2078, 2079, 2080, 2081, 2082, 2083, 2084, 2085,\n",
              "       2086, 2087, 2088, 2089, 2090, 2091, 2092, 2093, 2094, 2095, 2096,\n",
              "       2097, 2098, 2099, 2100, 2101, 2102, 2103, 2104])"
            ]
          },
          "metadata": {
            "tags": []
          },
          "execution_count": 12
        }
      ]
    },
    {
      "cell_type": "code",
      "metadata": {
        "colab": {
          "base_uri": "https://localhost:8080/"
        },
        "id": "FpnnnC_6iQgd",
        "outputId": "1cf2c10b-7680-4879-8c51-b66248e6eea3"
      },
      "source": [
        "# split into train and validate\n",
        "index_train = np.nonzero(year_all > predict_year)[0]\n",
        "index_validate = np.nonzero(year_all == predict_year)[0]\n",
        "print('train size',index_train.shape[0])\n",
        "print('validate size',index_validate.shape[0])"
      ],
      "execution_count": null,
      "outputs": [
        {
          "output_type": "stream",
          "text": [
            "train size 2238\n",
            "validate size 712\n"
          ],
          "name": "stdout"
        }
      ]
    },
    {
      "cell_type": "code",
      "metadata": {
        "id": "C4lJ-EnPiW0A"
      },
      "source": [
        "# calc train image mean (for each band), and then detract (broadcast)\n",
        "image_mean=np.mean(image_all[index_train],(0,1,2))\n",
        "image_all = image_all - image_mean"
      ],
      "execution_count": null,
      "outputs": []
    },
    {
      "cell_type": "code",
      "metadata": {
        "id": "T3ZkMctJidhL"
      },
      "source": [
        "image_validate=image_all[index_validate]\n",
        "yield_validate=yield_all[index_validate]"
      ],
      "execution_count": null,
      "outputs": []
    },
    {
      "cell_type": "code",
      "metadata": {
        "colab": {
          "base_uri": "https://localhost:8080/"
        },
        "id": "ssOy_QH6ih9c",
        "outputId": "1384fe83-c3b2-4e26-c609-4f4059b98196"
      },
      "source": [
        "model= NeuralModel(config,'net')"
      ],
      "execution_count": null,
      "outputs": [
        {
          "output_type": "stream",
          "text": [
            "WARNING:tensorflow:From /content/crop_yield_prediction/3_model/nnet_for_hist_dropout_stride.py:99: The name tf.placeholder is deprecated. Please use tf.compat.v1.placeholder instead.\n",
            "\n",
            "WARNING:tensorflow:From /content/crop_yield_prediction/3_model/nnet_for_hist_dropout_stride.py:43: The name tf.variable_scope is deprecated. Please use tf.compat.v1.variable_scope instead.\n",
            "\n",
            "WARNING:tensorflow:From /content/crop_yield_prediction/3_model/nnet_for_hist_dropout_stride.py:31: The name tf.get_variable is deprecated. Please use tf.compat.v1.get_variable instead.\n",
            "\n",
            "WARNING:tensorflow:\n",
            "The TensorFlow contrib module will not be included in TensorFlow 2.0.\n",
            "For more information, please see:\n",
            "  * https://github.com/tensorflow/community/blob/master/rfcs/20180907-contrib-sunset.md\n",
            "  * https://github.com/tensorflow/addons\n",
            "  * https://github.com/tensorflow/io (for I/O related ops)\n",
            "If you depend on functionality not listed there, please file an issue.\n",
            "\n",
            "WARNING:tensorflow:From /content/crop_yield_prediction/3_model/nnet_for_hist_dropout_stride.py:108: calling dropout (from tensorflow.python.ops.nn_ops) with keep_prob is deprecated and will be removed in a future version.\n",
            "Instructions for updating:\n",
            "Please use `rate` instead of `keep_prob`. Rate should be set to `rate = 1 - keep_prob`.\n",
            "(?, 8192)\n",
            "WARNING:tensorflow:From /content/crop_yield_prediction/3_model/nnet_for_hist_dropout_stride.py:174: The name tf.trainable_variables is deprecated. Please use tf.compat.v1.trainable_variables instead.\n",
            "\n",
            "WARNING:tensorflow:From /content/crop_yield_prediction/3_model/nnet_for_hist_dropout_stride.py:183: The name tf.train.AdamOptimizer is deprecated. Please use tf.compat.v1.train.AdamOptimizer instead.\n",
            "\n"
          ],
          "name": "stdout"
        }
      ]
    },
    {
      "cell_type": "code",
      "metadata": {
        "colab": {
          "base_uri": "https://localhost:8080/"
        },
        "id": "WeyYTftwik-K",
        "outputId": "cd394337-e7d2-4756-daeb-3feef1ea3a3d"
      },
      "source": [
        "gpu_options = tf.GPUOptions(per_process_gpu_memory_fraction=0.22)\n",
        "# Launch the graph.\n",
        "sess = tf.Session(config=tf.ConfigProto(gpu_options=gpu_options))\n",
        "sess.run(tf.initialize_all_variables())\n",
        "\n",
        "summary_train_loss = []\n",
        "summary_eval_loss = []\n",
        "summary_RMSE = []\n",
        "summary_ME = []\n",
        "\n",
        "train_loss=0\n",
        "val_loss=0\n",
        "val_prediction = 0\n",
        "val_deviation = np.zeros([config.B])\n",
        "# #########################\n",
        "# block when test\n",
        "# add saver\n",
        "saver=tf.train.Saver()\n",
        "# Restore variables from disk."
      ],
      "execution_count": null,
      "outputs": [
        {
          "output_type": "stream",
          "text": [
            "WARNING:tensorflow:From /tensorflow-1.15.2/python3.7/tensorflow_core/python/util/tf_should_use.py:198: initialize_all_variables (from tensorflow.python.ops.variables) is deprecated and will be removed after 2017-03-02.\n",
            "Instructions for updating:\n",
            "Use `tf.global_variables_initializer` instead.\n"
          ],
          "name": "stdout"
        }
      ]
    },
    {
      "cell_type": "code",
      "metadata": {
        "colab": {
          "base_uri": "https://localhost:8080/"
        },
        "id": "KSwvjr2skII7",
        "outputId": "3bdbce3f-c489-427c-ffbf-e04ffd3e1ec7"
      },
      "source": [
        "try:\n",
        "    saver.restore(sess, config.save_path+str(predict_year)+\"CNN_model.ckpt\")\n",
        "# Restore log results\n",
        "    npzfile = np.load(config.save_path + str(predict_year)+'result.npz')\n",
        "    summary_train_loss = npzfile['summary_train_loss'].tolist()\n",
        "    summary_eval_loss = npzfile['summary_eval_loss'].tolist()\n",
        "    summary_RMSE = npzfile['summary_RMSE'].tolist()\n",
        "    summary_ME = npzfile['summary_ME'].tolist()\n",
        "    print(\"Model restored.\")\n",
        "except:\n",
        "    print('No history model found')\n",
        "# #########################"
      ],
      "execution_count": null,
      "outputs": [
        {
          "output_type": "stream",
          "text": [
            "INFO:tensorflow:Restoring parameters from /content/drive/MyDrive/Crop_Yield/monthly/2013CNN_model.ckpt\n",
            "Model restored.\n"
          ],
          "name": "stdout"
        }
      ]
    },
    {
      "cell_type": "code",
      "metadata": {
        "colab": {
          "base_uri": "https://localhost:8080/"
        },
        "id": "J1qj2IN4ppzb",
        "outputId": "7ddff1b8-3e41-4a6d-986c-6acea78f2215"
      },
      "source": [
        "summary_train_loss = summary_train_loss.tolist()\n",
        "summary_eval_loss = summary_eval_loss.tolist()\n",
        "summary_RMSE = summary_RMSE.tolist()\n",
        "summary_ME = summary_ME.tolist()\n",
        "type(summary_train_loss)\n"
      ],
      "execution_count": null,
      "outputs": [
        {
          "output_type": "execute_result",
          "data": {
            "text/plain": [
              "list"
            ]
          },
          "metadata": {
            "tags": []
          },
          "execution_count": 29
        }
      ]
    },
    {
      "cell_type": "code",
      "metadata": {
        "colab": {
          "base_uri": "https://localhost:8080/",
          "height": 1000
        },
        "id": "wPj2hNjEkNVE",
        "outputId": "0138a243-8887-4624-ff96-e266656fca56"
      },
      "source": [
        "RMSE_min = 100\n",
        "try:\n",
        "    for i in range(config.train_step):\n",
        "        if i==3500:\n",
        "            config.lr/=10\n",
        "            # saver.restore(sess, config.save_path+str(predict_year)+\"CNN_model.ckpt\")\n",
        "            # # Restore log results\n",
        "            # npzfile = np.load(config.save_path + str(predict_year)+'result.npz')\n",
        "            # summary_train_loss = npzfile['summary_train_loss'].tolist()\n",
        "            # summary_eval_loss = npzfile['summary_eval_loss'].tolist()\n",
        "            # summary_RMSE = npzfile['summary_RMSE'].tolist()\n",
        "            # summary_ME = npzfile['summary_ME'].tolist()\n",
        "            # print(\"Model restored.\")\n",
        "        if i==20000:\n",
        "            config.lr/=10\n",
        "            # saver.restore(sess, config.save_path+str(predict_year)+\"CNN_model.ckpt\")\n",
        "            # # Restore log results\n",
        "            # npzfile = np.load(config.save_path + str(predict_year)+'result.npz')\n",
        "            # summary_train_loss = npzfile['summary_train_loss'].tolist()\n",
        "            # summary_eval_loss = npzfile['summary_eval_loss'].tolist()\n",
        "            # summary_RMSE = npzfile['summary_RMSE'].tolist()\n",
        "            # summary_ME = npzfile['summary_ME'].tolist()\n",
        "            # print(\"Model restored.\")\n",
        "        # if i==12000:\n",
        "        #     config.lr/=10\n",
        "            # saver.restore(sess, config.save_path+str(predict_year)+\"CNN_model.ckpt\")\n",
        "            # # Restore log results\n",
        "            # npzfile = np.load(config.save_path + str(predict_year)+'result.npz')\n",
        "            # summary_train_loss = npzfile['summary_train_loss'].tolist()\n",
        "            # summary_eval_loss = npzfile['summary_eval_loss'].tolist()\n",
        "            # summary_RMSE = npzfile['summary_RMSE'].tolist()\n",
        "            # summary_ME = npzfile['summary_ME'].tolist()\n",
        "            # print(\"Model restored.\")\n",
        "\n",
        "        # No augmentation\n",
        "        # index_train_batch = np.random.choice(index_train,size=config.B)\n",
        "        # image_train_batch = image_all[index_train_batch,:,0:config.H,:]\n",
        "        # yield_train_batch = yield_all[index_train_batch]\n",
        "        # year_train_batch = year_all[index_train_batch,np.newaxis]\n",
        "\n",
        "        # try data augmentation while training\n",
        "        index_train_batch_1 = np.random.choice(index_train,size=config.B)\n",
        "        index_train_batch_2 = np.random.choice(index_train,size=config.B)\n",
        "        image_train_batch = (image_all[index_train_batch_1,:,0:config.H,:]+image_all[index_train_batch_1,:,0:config.H,:])/2\n",
        "        yield_train_batch = (yield_all[index_train_batch_1]+yield_all[index_train_batch_1])/2\n",
        "        # year_train_batch = (year_all[index_train_batch_1,np.newaxis]+year_all[index_train_batch_2,np.newaxis])/2\n",
        "\n",
        "        index_validate_batch = np.random.choice(index_validate, size=config.B)\n",
        "\n",
        "        _, train_loss = sess.run([model.train_op, model.loss_err], feed_dict={\n",
        "            model.x:image_train_batch,\n",
        "            model.y:yield_train_batch,\n",
        "            model.lr:config.lr,\n",
        "            model.keep_prob: config.drop_out\n",
        "            })\n",
        "\n",
        "        if i%200 == 0:\n",
        "            val_loss,fc6,W,B = sess.run([model.loss_err,model.fc6,model.dense_W,model.dense_B], feed_dict={\n",
        "                model.x: image_all[index_validate_batch, :, 0:config.H, :],\n",
        "                model.y: yield_all[index_validate_batch],\n",
        "                model.keep_prob: 1\n",
        "            })\n",
        "\n",
        "            print('predict year'+str(predict_year)+'step'+str(i),train_loss,val_loss,config.lr)\n",
        "            logging.info('predict year %d step %d %f %f %f',predict_year,i,train_loss,val_loss,config.lr)\n",
        "        if i%200 == 0:\n",
        "            # do validation\n",
        "            pred = []\n",
        "            real = []\n",
        "            for j in range(int(image_validate.shape[0]) // int(config.B)):\n",
        "                real_temp = yield_validate[j * config.B:(j + 1) * config.B]\n",
        "                pred_temp= sess.run(model.logits, feed_dict={\n",
        "                    model.x: image_validate[j * config.B:(j + 1) * config.B,:,0:config.H,:],\n",
        "                    model.y: yield_validate[j * config.B:(j + 1) * config.B],\n",
        "                    model.keep_prob: 1\n",
        "                    })\n",
        "                pred.append(pred_temp)\n",
        "                real.append(real_temp)\n",
        "            pred=np.concatenate(pred)\n",
        "            real=np.concatenate(real)\n",
        "            RMSE=np.sqrt(np.mean((pred-real)**2))\n",
        "            ME=np.mean(pred-real)\n",
        "\n",
        "            if RMSE<RMSE_min:\n",
        "                RMSE_min=RMSE\n",
        "                # # save\n",
        "                # save_path = saver.save(sess, config.save_path + str(predict_year)+'CNN_model.ckpt')\n",
        "                # print('save in file: %s' % save_path)\n",
        "                # np.savez(config.save_path+str(predict_year)+'result.npz',\n",
        "                #     summary_train_loss=summary_train_loss,summary_eval_loss=summary_eval_loss,\n",
        "                #     summary_RMSE=summary_RMSE,summary_ME=summary_RMSE)\n",
        "\n",
        "            print('Validation set','RMSE',RMSE,'ME',ME,'RMSE_min',RMSE_min)\n",
        "            logging.info('Validation set RMSE %f ME %f RMSE_min %f',RMSE,ME,RMSE_min)\n",
        "        \n",
        "            summary_train_loss.append(train_loss)\n",
        "            summary_eval_loss.append(val_loss)\n",
        "            summary_RMSE.append(RMSE)\n",
        "            summary_ME.append(ME)\n",
        "\n",
        "\n",
        "\n",
        "except KeyboardInterrupt:\n",
        "    print('stopped')\n",
        "\n",
        "finally:\n",
        "\n",
        "    # save\n",
        "    save_path = saver.save(sess, config.save_path + str(predict_year)+'CNN_model.ckpt')\n",
        "    print(('save in file: %s' % save_path))\n",
        "    logging.info('save in file: %s' % save_path)\n",
        "\n",
        "    # save result\n",
        "    pred_out = []\n",
        "    real_out = []\n",
        "    feature_out = []\n",
        "    year_out = []\n",
        "    locations_out =[]\n",
        "    index_out = []\n",
        "    for i in range(int(image_all.shape[0]) // int(config.B)):\n",
        "        feature,pred = sess.run(\n",
        "            [model.fc6,model.logits], feed_dict={\n",
        "            model.x: image_all[i * config.B:(i + 1) * config.B,:,0:config.H,:],\n",
        "            model.y: yield_all[i * config.B:(i + 1) * config.B],\n",
        "            model.keep_prob:1\n",
        "        })\n",
        "        real = yield_all[i * config.B:(i + 1) * config.B]\n",
        "\n",
        "        pred_out.append(pred)\n",
        "        real_out.append(real)\n",
        "        feature_out.append(feature)\n",
        "        year_out.append(year_all[i * config.B:(i + 1) * config.B])\n",
        "        locations_out.append(locations_all[i * config.B:(i + 1) * config.B])\n",
        "        index_out.append(index_all[i * config.B:(i + 1) * config.B])\n",
        "        # print i\n",
        "    weight_out, b_out = sess.run(\n",
        "        [model.dense_W, model.dense_B], feed_dict={\n",
        "            model.x: image_all[0 * config.B:(0 + 1) * config.B, :, 0:config.H, :],\n",
        "            model.y: yield_all[0 * config.B:(0 + 1) * config.B],\n",
        "            model.keep_prob: 1\n",
        "        })\n",
        "    pred_out=np.concatenate(pred_out)\n",
        "    real_out=np.concatenate(real_out)\n",
        "    feature_out=np.concatenate(feature_out)\n",
        "    year_out=np.concatenate(year_out)\n",
        "    locations_out=np.concatenate(locations_out)\n",
        "    index_out=np.concatenate(index_out)\n",
        "    \n",
        "    path = config.save_path + str(predict_year)+'result_prediction.npz'\n",
        "    np.savez(path,\n",
        "        pred_out=pred_out,real_out=real_out,feature_out=feature_out,\n",
        "        year_out=year_out,locations_out=locations_out,weight_out=weight_out,b_out=b_out,index_out=index_out)\n",
        "    np.savez(config.save_path+str(predict_year)+'result.npz',\n",
        "                        summary_train_loss=summary_train_loss,summary_eval_loss=summary_eval_loss,\n",
        "                        summary_RMSE=summary_RMSE,summary_ME=summary_ME)\n",
        "    # plot results\n",
        "    npzfile = np.load(config.save_path+str(predict_year)+'result.npz')\n",
        "    summary_train_loss=npzfile['summary_train_loss']\n",
        "    summary_eval_loss=npzfile['summary_eval_loss']\n",
        "    summary_RMSE = npzfile['summary_RMSE']\n",
        "    summary_ME = npzfile['summary_ME']\n",
        "\n",
        "    #Plot the points using matplotlib\n",
        "    plt.plot(list(range(len(summary_train_loss))), summary_train_loss)\n",
        "    plt.plot(list(range(len(summary_eval_loss))), summary_eval_loss)\n",
        "    plt.xlabel('Training steps')\n",
        "    plt.ylabel('L2 loss')\n",
        "    plt.title('Loss curve')\n",
        "    plt.legend(['Train', 'Validate'])\n",
        "    plt.show()\n",
        "\n",
        "    plt.plot(list(range(len(summary_RMSE))), summary_RMSE)\n",
        "    # plt.plot(range(len(summary_ME)), summary_ME)\n",
        "    plt.xlabel('Training steps')\n",
        "    plt.ylabel('Error')\n",
        "    plt.title('RMSE')\n",
        "    # plt.legend(['RMSE', 'ME'])\n",
        "    plt.show()\n",
        "\n",
        "    # plt.plot(range(len(summary_RMSE)), summary_RMSE)\n",
        "    plt.plot(list(range(len(summary_ME))), summary_ME)\n",
        "    plt.xlabel('Training steps')\n",
        "    plt.ylabel('Error')\n",
        "    plt.title('ME')\n",
        "    # plt.legend(['RMSE', 'ME'])\n",
        "    plt.show()\n",
        "      "
      ],
      "execution_count": null,
      "outputs": [
        {
          "output_type": "stream",
          "text": [
            "predict year2013step0 87890.28 14829.418 0.001\n",
            "Validation set RMSE 31.116117670548256 ME -29.22646187193353 RMSE_min 31.116117670548256\n",
            "predict year2013step200 9114.863 12526.868 0.001\n",
            "Validation set RMSE 25.43473233388875 ME -22.409483282809905 RMSE_min 25.43473233388875\n",
            "predict year2013step400 8220.102 9585.44 0.001\n",
            "Validation set RMSE 25.10583319627151 ME -19.963709864579144 RMSE_min 25.10583319627151\n",
            "predict year2013step600 7256.6836 13330.956 0.001\n",
            "Validation set RMSE 30.092667777099845 ME -19.78281565186652 RMSE_min 25.10583319627151\n",
            "predict year2013step800 6198.077 11540.293 0.001\n",
            "Validation set RMSE 29.805311383460833 ME -18.61404123434966 RMSE_min 25.10583319627151\n",
            "predict year2013step1000 5617.538 14587.287 0.001\n",
            "Validation set RMSE 29.403298035276386 ME -15.599011598730629 RMSE_min 25.10583319627151\n",
            "predict year2013step1200 4673.81 14815.233 0.001\n",
            "Validation set RMSE 31.843510102688573 ME -20.506893637573175 RMSE_min 25.10583319627151\n",
            "predict year2013step1400 2997.6929 12140.705 0.001\n",
            "Validation set RMSE 27.089976123672326 ME -14.704217093895103 RMSE_min 25.10583319627151\n",
            "predict year2013step1600 2373.953 13903.326 0.001\n",
            "Validation set RMSE 25.7718830146897 ME -14.872639037397773 RMSE_min 25.10583319627151\n",
            "predict year2013step1800 4071.7852 9931.852 0.001\n",
            "Validation set RMSE 22.610645782224214 ME -10.371864411624317 RMSE_min 22.610645782224214\n",
            "predict year2013step2000 3133.5508 10370.933 0.001\n",
            "Validation set RMSE 23.506956322090787 ME -11.02829033752734 RMSE_min 22.610645782224214\n",
            "predict year2013step2200 2277.731 6867.238 0.001\n",
            "Validation set RMSE 21.963568202637045 ME -7.269822458888997 RMSE_min 21.963568202637045\n",
            "predict year2013step2400 3250.2554 8456.686 0.001\n",
            "Validation set RMSE 23.0577891948578 ME -10.733503450199285 RMSE_min 21.963568202637045\n",
            "predict year2013step2600 1304.2947 12687.496 0.001\n",
            "Validation set RMSE 24.648742100256555 ME -9.908906994116577 RMSE_min 21.963568202637045\n",
            "predict year2013step2800 2722.9844 11673.263 0.001\n",
            "Validation set RMSE 24.783705390222345 ME -10.989867480539463 RMSE_min 21.963568202637045\n",
            "predict year2013step3000 1224.7174 9487.514 0.001\n",
            "Validation set RMSE 25.199475424830656 ME -10.99642799826847 RMSE_min 21.963568202637045\n",
            "predict year2013step3200 2226.6719 8139.8438 0.001\n",
            "Validation set RMSE 20.789597074711 ME -8.047543413666162 RMSE_min 20.789597074711\n",
            "predict year2013step3400 1446.4324 8152.171 0.001\n",
            "Validation set RMSE 23.872479934263303 ME -11.421930469978939 RMSE_min 20.789597074711\n",
            "predict year2013step3600 2250.9417 12336.327 0.0001\n",
            "Validation set RMSE 22.863961540188956 ME -10.438959180360492 RMSE_min 20.789597074711\n",
            "predict year2013step3800 1190.2816 10824.201 0.0001\n",
            "Validation set RMSE 22.143129070643205 ME -8.846382119929926 RMSE_min 20.789597074711\n",
            "predict year2013step4000 1503.571 6897.534 0.0001\n",
            "Validation set RMSE 22.647823569606913 ME -9.895720869878476 RMSE_min 20.789597074711\n",
            "predict year2013step4200 1535.4395 13761.097 0.0001\n",
            "Validation set RMSE 22.289157240855555 ME -10.086891809715466 RMSE_min 20.789597074711\n",
            "predict year2013step4400 853.5325 7097.643 0.0001\n",
            "Validation set RMSE 22.09307824581189 ME -9.23596150079234 RMSE_min 20.789597074711\n",
            "predict year2013step4600 890.14685 11214.674 0.0001\n",
            "Validation set RMSE 23.189409616162404 ME -11.209687942198732 RMSE_min 20.789597074711\n",
            "predict year2013step4800 662.49634 4551.6387 0.0001\n",
            "Validation set RMSE 22.5294502827479 ME -10.551322092285211 RMSE_min 20.789597074711\n",
            "predict year2013step5000 1900.5281 7428.0347 0.0001\n",
            "Validation set RMSE 22.603825140367423 ME -11.067789119058713 RMSE_min 20.789597074711\n",
            "predict year2013step5200 1328.9956 5522.2793 0.0001\n",
            "Validation set RMSE 22.74248786343741 ME -10.481473504548724 RMSE_min 20.789597074711\n",
            "predict year2013step5400 1298.8029 11573.387 0.0001\n",
            "Validation set RMSE 22.271979786681978 ME -9.435126624307172 RMSE_min 20.789597074711\n",
            "predict year2013step5600 1857.5863 7146.9785 0.0001\n",
            "Validation set RMSE 22.08576721315134 ME -9.052242306128822 RMSE_min 20.789597074711\n",
            "predict year2013step5800 917.33716 8580.013 0.0001\n",
            "Validation set RMSE 22.350198762067265 ME -9.509496683407237 RMSE_min 20.789597074711\n",
            "predict year2013step6000 1788.5946 7701.8726 0.0001\n",
            "Validation set RMSE 22.753025482831198 ME -10.59594599147412 RMSE_min 20.789597074711\n",
            "predict year2013step6200 1845.8877 5064.01 0.0001\n",
            "Validation set RMSE 22.228561671643313 ME -9.456234849972482 RMSE_min 20.789597074711\n",
            "predict year2013step6400 1536.7739 7947.3965 0.0001\n",
            "Validation set RMSE 22.189952137677835 ME -10.46418812852353 RMSE_min 20.789597074711\n",
            "predict year2013step6600 718.3209 9451.557 0.0001\n",
            "Validation set RMSE 22.587157992142185 ME -10.569550103237006 RMSE_min 20.789597074711\n",
            "predict year2013step6800 3051.1724 11010.163 0.0001\n",
            "Validation set RMSE 22.89375335933821 ME -10.916586559079589 RMSE_min 20.789597074711\n",
            "predict year2013step7000 1567.5332 14739.9 0.0001\n",
            "Validation set RMSE 22.54849484160619 ME -9.42623076272959 RMSE_min 20.789597074711\n",
            "predict year2013step7200 738.2689 6789.1885 0.0001\n",
            "Validation set RMSE 22.92586912141282 ME -11.430714052068916 RMSE_min 20.789597074711\n",
            "predict year2013step7400 1121.484 12294.83 0.0001\n",
            "Validation set RMSE 22.965262178638913 ME -10.88344602979381 RMSE_min 20.789597074711\n",
            "predict year2013step7600 869.01086 8781.505 0.0001\n",
            "Validation set RMSE 22.61726214367858 ME -10.088988869857381 RMSE_min 20.789597074711\n",
            "predict year2013step7800 1674.604 5924.1777 0.0001\n",
            "Validation set RMSE 22.696274737957644 ME -10.914857566424391 RMSE_min 20.789597074711\n",
            "predict year2013step8000 918.4246 4709.282 0.0001\n",
            "Validation set RMSE 22.64771442185825 ME -10.639854260449383 RMSE_min 20.789597074711\n",
            "predict year2013step8200 658.34 12130.394 0.0001\n",
            "Validation set RMSE 23.530849302878014 ME -11.875675893033092 RMSE_min 20.789597074711\n",
            "predict year2013step8400 544.16296 6590.351 0.0001\n",
            "Validation set RMSE 22.56807235189761 ME -9.92520778844641 RMSE_min 20.789597074711\n",
            "predict year2013step8600 1452.9757 4937.9746 0.0001\n",
            "Validation set RMSE 22.421813780145627 ME -10.570794613337652 RMSE_min 20.789597074711\n",
            "predict year2013step8800 670.6841 7591.157 0.0001\n",
            "Validation set RMSE 22.596722410139417 ME -10.353833638707345 RMSE_min 20.789597074711\n",
            "predict year2013step9000 1204.304 7286.9165 0.0001\n",
            "Validation set RMSE 22.625918242417345 ME -10.965439936298539 RMSE_min 20.789597074711\n",
            "predict year2013step9200 1779.9418 12441.137 0.0001\n",
            "Validation set RMSE 22.826841329266838 ME -10.833394964039327 RMSE_min 20.789597074711\n",
            "predict year2013step9400 986.3803 7678.7764 0.0001\n",
            "Validation set RMSE 21.946520187498276 ME -10.405287032676014 RMSE_min 20.789597074711\n",
            "predict year2013step9600 1427.5536 7174.2256 0.0001\n",
            "Validation set RMSE 21.689552909050747 ME -9.877856824699451 RMSE_min 20.789597074711\n",
            "predict year2013step9800 1297.2356 4890.9795 0.0001\n",
            "Validation set RMSE 21.24389377459401 ME -8.63572026906027 RMSE_min 20.789597074711\n",
            "predict year2013step10000 2434.2952 9145.906 0.0001\n",
            "Validation set RMSE 22.711376321467938 ME -11.271435926482082 RMSE_min 20.789597074711\n",
            "predict year2013step10200 859.58954 9414.545 0.0001\n",
            "Validation set RMSE 22.053257566761452 ME -10.932102024622939 RMSE_min 20.789597074711\n",
            "predict year2013step10400 1096.1866 6685.948 0.0001\n",
            "Validation set RMSE 22.393352429561865 ME -10.618545149520717 RMSE_min 20.789597074711\n",
            "predict year2013step10600 810.9679 7446.27 0.0001\n",
            "Validation set RMSE 21.604602147367366 ME -9.493057853694667 RMSE_min 20.789597074711\n",
            "predict year2013step10800 1071.1396 4578.514 0.0001\n",
            "Validation set RMSE 22.174619588275107 ME -11.73249353187328 RMSE_min 20.789597074711\n",
            "predict year2013step11000 1467.0803 6853.1025 0.0001\n",
            "Validation set RMSE 22.76508204028795 ME -11.164635462161492 RMSE_min 20.789597074711\n",
            "predict year2013step11200 631.3772 9384.051 0.0001\n",
            "Validation set RMSE 22.00116370795355 ME -10.183894409273158 RMSE_min 20.789597074711\n",
            "predict year2013step11400 1775.7438 9775.306 0.0001\n",
            "Validation set RMSE 22.173041482181546 ME -10.471903371777048 RMSE_min 20.789597074711\n",
            "predict year2013step11600 1057.7133 7528.957 0.0001\n",
            "Validation set RMSE 21.474134534287984 ME -9.29424106802114 RMSE_min 20.789597074711\n",
            "predict year2013step11800 423.15936 10134.543 0.0001\n",
            "Validation set RMSE 21.940205867824712 ME -10.448430420644582 RMSE_min 20.789597074711\n",
            "predict year2013step12000 1023.9088 8644.629 0.0001\n",
            "Validation set RMSE 22.75975987942175 ME -11.220893000235613 RMSE_min 20.789597074711\n",
            "predict year2013step12200 304.86658 7348.8545 0.0001\n",
            "Validation set RMSE 21.415314720319405 ME -9.88043506645005 RMSE_min 20.789597074711\n",
            "predict year2013step12400 521.3855 4977.3623 0.0001\n",
            "Validation set RMSE 22.67274297093449 ME -11.896544907055794 RMSE_min 20.789597074711\n",
            "predict year2013step12600 468.3943 8323.971 0.0001\n",
            "Validation set RMSE 22.34873069206231 ME -11.588053003529255 RMSE_min 20.789597074711\n",
            "predict year2013step12800 709.318 7648.1904 0.0001\n",
            "Validation set RMSE 21.997988643776953 ME -10.687670275636695 RMSE_min 20.789597074711\n",
            "predict year2013step13000 892.1751 9018.353 0.0001\n",
            "Validation set RMSE 22.291914767173374 ME -10.926296822286465 RMSE_min 20.789597074711\n",
            "predict year2013step13200 1396.1948 6022.5244 0.0001\n",
            "Validation set RMSE 22.494337796074387 ME -11.55690061172301 RMSE_min 20.789597074711\n",
            "predict year2013step13400 569.3678 6308.9507 0.0001\n",
            "Validation set RMSE 21.84405226040878 ME -10.94611137790436 RMSE_min 20.789597074711\n",
            "predict year2013step13600 853.443 7472.693 0.0001\n",
            "Validation set RMSE 22.324246382071358 ME -10.859320060079071 RMSE_min 20.789597074711\n",
            "predict year2013step13800 1019.86053 11007.124 0.0001\n",
            "Validation set RMSE 21.85389324472546 ME -10.15310895898464 RMSE_min 20.789597074711\n",
            "predict year2013step14000 851.337 6293.207 0.0001\n",
            "Validation set RMSE 21.499082895317464 ME -10.287903140705417 RMSE_min 20.789597074711\n",
            "predict year2013step14200 530.3235 9837.691 0.0001\n",
            "Validation set RMSE 22.179559623051134 ME -10.53392381998287 RMSE_min 20.789597074711\n",
            "predict year2013step14400 1225.3157 8326.991 0.0001\n",
            "Validation set RMSE 21.93399480417508 ME -10.037596941146662 RMSE_min 20.789597074711\n",
            "predict year2013step14600 680.64685 14014.388 0.0001\n",
            "Validation set RMSE 22.161448535433642 ME -11.238461995226416 RMSE_min 20.789597074711\n",
            "predict year2013step14800 434.49786 8193.574 0.0001\n",
            "Validation set RMSE 22.90752647989961 ME -12.261378487470473 RMSE_min 20.789597074711\n",
            "predict year2013step15000 1836.6069 6615.771 0.0001\n",
            "Validation set RMSE 21.438715344106576 ME -9.810835121013225 RMSE_min 20.789597074711\n",
            "stopped\n",
            "save in file: /content/drive/MyDrive/Crop_Yield/monthly/2013CNN_model.ckpt\n"
          ],
          "name": "stdout"
        },
        {
          "output_type": "display_data",
          "data": {
            "image/png": "[encoded data removed]",
            "text/plain": [
              "<Figure size 432x288 with 1 Axes>"
            ]
          },
          "metadata": {
            "tags": [],
            "needs_background": "light"
          }
        },
        {
          "output_type": "display_data",
          "data": {
            "image/png": "[encoded data removed]",
            "text/plain": [
              "<Figure size 432x288 with 1 Axes>"
            ]
          },
          "metadata": {
            "tags": [],
            "needs_background": "light"
          }
        },
        {
          "output_type": "display_data",
          "data": {
            "image/png": "[encoded data removed]",
            "text/plain": [
              "<Figure size 432x288 with 1 Axes>"
            ]
          },
          "metadata": {
            "tags": [],
            "needs_background": "light"
          }
        }
      ]
    },
    {
      "cell_type": "code",
      "metadata": {
        "id": "19rZ9qGmkcXT"
      },
      "source": [
        ""
      ],
      "execution_count": null,
      "outputs": []
    }
  ]
}